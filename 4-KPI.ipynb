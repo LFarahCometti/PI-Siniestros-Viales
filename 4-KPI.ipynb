{
 "cells": [
  {
   "cell_type": "markdown",
   "metadata": {},
   "source": [
    "# KPI's"
   ]
  },
  {
   "cell_type": "markdown",
   "metadata": {},
   "source": [
    "### Importamos librerias"
   ]
  },
  {
   "cell_type": "code",
   "execution_count": 1,
   "metadata": {},
   "outputs": [],
   "source": [
    "import pandas as pd\n",
    "import matplotlib.pyplot as plt\n",
    "import seaborn as sns\n",
    "import datetime\n",
    "from bs4 import BeautifulSoup \n",
    "import requests"
   ]
  },
  {
   "cell_type": "markdown",
   "metadata": {},
   "source": [
    "### Cargamos el archivo `homicidios_combinado.csv`"
   ]
  },
  {
   "cell_type": "code",
   "execution_count": 2,
   "metadata": {},
   "outputs": [
    {
     "data": {
      "text/html": [
       "<div>\n",
       "<style scoped>\n",
       "    .dataframe tbody tr th:only-of-type {\n",
       "        vertical-align: middle;\n",
       "    }\n",
       "\n",
       "    .dataframe tbody tr th {\n",
       "        vertical-align: top;\n",
       "    }\n",
       "\n",
       "    .dataframe thead th {\n",
       "        text-align: right;\n",
       "    }\n",
       "</style>\n",
       "<table border=\"1\" class=\"dataframe\">\n",
       "  <thead>\n",
       "    <tr style=\"text-align: right;\">\n",
       "      <th></th>\n",
       "      <th>ID</th>\n",
       "      <th>N_VICTIMAS</th>\n",
       "      <th>FECHA</th>\n",
       "      <th>AAAA</th>\n",
       "      <th>FRANJA_HORARIA</th>\n",
       "      <th>LUGAR_DEL_HECHO</th>\n",
       "      <th>TIPO_DE_CALLE</th>\n",
       "      <th>CALLE</th>\n",
       "      <th>DIRECCIÓN NORMALIZADA</th>\n",
       "      <th>COMUNA</th>\n",
       "      <th>...</th>\n",
       "      <th>POS X</th>\n",
       "      <th>POS Y</th>\n",
       "      <th>PARTICIPANTES</th>\n",
       "      <th>ACUSADO</th>\n",
       "      <th>ROL</th>\n",
       "      <th>VICTIMA</th>\n",
       "      <th>SEXO</th>\n",
       "      <th>EDAD</th>\n",
       "      <th>FECHA_FALLECIMIENTO</th>\n",
       "      <th>SEMESTRE</th>\n",
       "    </tr>\n",
       "  </thead>\n",
       "  <tbody>\n",
       "    <tr>\n",
       "      <th>0</th>\n",
       "      <td>2016-0001</td>\n",
       "      <td>1</td>\n",
       "      <td>2016-01-01</td>\n",
       "      <td>2016</td>\n",
       "      <td>4</td>\n",
       "      <td>AV PIEDRA BUENA Y AV FERNANDEZ DE LA CRUZ</td>\n",
       "      <td>AVENIDA</td>\n",
       "      <td>PIEDRA BUENA AV.</td>\n",
       "      <td>PIEDRA BUENA AV. y FERNANDEZ DE LA CRUZ, F., G...</td>\n",
       "      <td>8</td>\n",
       "      <td>...</td>\n",
       "      <td>-58.47533969</td>\n",
       "      <td>-34.68757022</td>\n",
       "      <td>MOTO-AUTO</td>\n",
       "      <td>AUTO</td>\n",
       "      <td>CONDUCTOR</td>\n",
       "      <td>MOTO</td>\n",
       "      <td>MASCULINO</td>\n",
       "      <td>19</td>\n",
       "      <td>2016-01-01 00:00:00</td>\n",
       "      <td>2016_1</td>\n",
       "    </tr>\n",
       "    <tr>\n",
       "      <th>1</th>\n",
       "      <td>2016-0002</td>\n",
       "      <td>1</td>\n",
       "      <td>2016-01-02</td>\n",
       "      <td>2016</td>\n",
       "      <td>1</td>\n",
       "      <td>AV GRAL PAZ  Y AV DE LOS CORRALES</td>\n",
       "      <td>GRAL PAZ</td>\n",
       "      <td>PAZ, GRAL. AV.</td>\n",
       "      <td>PAZ, GRAL. AV. y DE LOS CORRALES AV.</td>\n",
       "      <td>9</td>\n",
       "      <td>...</td>\n",
       "      <td>-58.50877521</td>\n",
       "      <td>-34.66977709</td>\n",
       "      <td>AUTO-PASAJEROS</td>\n",
       "      <td>PASAJEROS</td>\n",
       "      <td>CONDUCTOR</td>\n",
       "      <td>AUTO</td>\n",
       "      <td>MASCULINO</td>\n",
       "      <td>70</td>\n",
       "      <td>2016-01-02 00:00:00</td>\n",
       "      <td>2016_1</td>\n",
       "    </tr>\n",
       "  </tbody>\n",
       "</table>\n",
       "<p>2 rows × 21 columns</p>\n",
       "</div>"
      ],
      "text/plain": [
       "          ID  N_VICTIMAS       FECHA  AAAA FRANJA_HORARIA  \\\n",
       "0  2016-0001           1  2016-01-01  2016              4   \n",
       "1  2016-0002           1  2016-01-02  2016              1   \n",
       "\n",
       "                             LUGAR_DEL_HECHO TIPO_DE_CALLE             CALLE  \\\n",
       "0  AV PIEDRA BUENA Y AV FERNANDEZ DE LA CRUZ       AVENIDA  PIEDRA BUENA AV.   \n",
       "1          AV GRAL PAZ  Y AV DE LOS CORRALES      GRAL PAZ    PAZ, GRAL. AV.   \n",
       "\n",
       "                               DIRECCIÓN NORMALIZADA  COMUNA  ...  \\\n",
       "0  PIEDRA BUENA AV. y FERNANDEZ DE LA CRUZ, F., G...       8  ...   \n",
       "1               PAZ, GRAL. AV. y DE LOS CORRALES AV.       9  ...   \n",
       "\n",
       "          POS X         POS Y   PARTICIPANTES    ACUSADO        ROL VICTIMA  \\\n",
       "0  -58.47533969  -34.68757022       MOTO-AUTO       AUTO  CONDUCTOR    MOTO   \n",
       "1  -58.50877521  -34.66977709  AUTO-PASAJEROS  PASAJEROS  CONDUCTOR    AUTO   \n",
       "\n",
       "        SEXO EDAD  FECHA_FALLECIMIENTO SEMESTRE  \n",
       "0  MASCULINO   19  2016-01-01 00:00:00   2016_1  \n",
       "1  MASCULINO   70  2016-01-02 00:00:00   2016_1  \n",
       "\n",
       "[2 rows x 21 columns]"
      ]
     },
     "execution_count": 2,
     "metadata": {},
     "output_type": "execute_result"
    }
   ],
   "source": [
    "homicidios_combinado = pd.read_csv('datasets_limpios/homicidios_combinado.csv')\n",
    "homicidios_combinado.head(2)"
   ]
  },
  {
   "cell_type": "markdown",
   "metadata": {},
   "source": [
    "Se realiza webscraping de la informacion necesaria para el kpi en este caso la poblacion de CABA."
   ]
  },
  {
   "cell_type": "code",
   "execution_count": 3,
   "metadata": {},
   "outputs": [],
   "source": [
    "url='https://www.ign.gob.ar/NuestrasActividades/Geografia/DatosArgentina/Poblacion2'\n",
    "resq=requests.get(url)\n",
    "soup=BeautifulSoup(resq.text, 'html.parser')\n",
    "pagina=pd.read_html(url)"
   ]
  },
  {
   "cell_type": "code",
   "execution_count": 4,
   "metadata": {},
   "outputs": [
    {
     "data": {
      "text/html": [
       "<div>\n",
       "<style scoped>\n",
       "    .dataframe tbody tr th:only-of-type {\n",
       "        vertical-align: middle;\n",
       "    }\n",
       "\n",
       "    .dataframe tbody tr th {\n",
       "        vertical-align: top;\n",
       "    }\n",
       "\n",
       "    .dataframe thead th {\n",
       "        text-align: right;\n",
       "    }\n",
       "</style>\n",
       "<table border=\"1\" class=\"dataframe\">\n",
       "  <thead>\n",
       "    <tr style=\"text-align: right;\">\n",
       "      <th></th>\n",
       "      <th>Jurisdicción</th>\n",
       "      <th>Año 2010</th>\n",
       "      <th>Año 2015</th>\n",
       "      <th>Año 2020</th>\n",
       "    </tr>\n",
       "  </thead>\n",
       "  <tbody>\n",
       "    <tr>\n",
       "      <th>0</th>\n",
       "      <td>República Argentina</td>\n",
       "      <td>40.117.096</td>\n",
       "      <td>43.131.966</td>\n",
       "      <td>45.376.763</td>\n",
       "    </tr>\n",
       "    <tr>\n",
       "      <th>1</th>\n",
       "      <td>Ciudad Autónoma de Buenos Aires</td>\n",
       "      <td>2.890.151</td>\n",
       "      <td>3.054.267</td>\n",
       "      <td>3.075.646</td>\n",
       "    </tr>\n",
       "    <tr>\n",
       "      <th>2</th>\n",
       "      <td>Buenos Aires</td>\n",
       "      <td>15.625.084</td>\n",
       "      <td>16.659.931</td>\n",
       "      <td>17.541.141</td>\n",
       "    </tr>\n",
       "    <tr>\n",
       "      <th>3</th>\n",
       "      <td>Catamarca</td>\n",
       "      <td>367.828</td>\n",
       "      <td>396.895</td>\n",
       "      <td>415.438</td>\n",
       "    </tr>\n",
       "    <tr>\n",
       "      <th>4</th>\n",
       "      <td>Chaco</td>\n",
       "      <td>1.055.259</td>\n",
       "      <td>1.143.201</td>\n",
       "      <td>1.204.541</td>\n",
       "    </tr>\n",
       "    <tr>\n",
       "      <th>5</th>\n",
       "      <td>Chubut</td>\n",
       "      <td>509.108</td>\n",
       "      <td>566.922</td>\n",
       "      <td>618.994</td>\n",
       "    </tr>\n",
       "    <tr>\n",
       "      <th>6</th>\n",
       "      <td>Córdoba</td>\n",
       "      <td>3.308.876</td>\n",
       "      <td>3.567.654</td>\n",
       "      <td>3.760.450</td>\n",
       "    </tr>\n",
       "    <tr>\n",
       "      <th>7</th>\n",
       "      <td>Corrientes</td>\n",
       "      <td>992.595</td>\n",
       "      <td>1.070.283</td>\n",
       "      <td>1.120.801</td>\n",
       "    </tr>\n",
       "    <tr>\n",
       "      <th>8</th>\n",
       "      <td>Entre Ríos</td>\n",
       "      <td>1.235.994</td>\n",
       "      <td>1.321.415</td>\n",
       "      <td>1.385.961</td>\n",
       "    </tr>\n",
       "    <tr>\n",
       "      <th>9</th>\n",
       "      <td>Formosa</td>\n",
       "      <td>530.162</td>\n",
       "      <td>579.250</td>\n",
       "      <td>605.193</td>\n",
       "    </tr>\n",
       "    <tr>\n",
       "      <th>10</th>\n",
       "      <td>Jujuy</td>\n",
       "      <td>673.307</td>\n",
       "      <td>727.780</td>\n",
       "      <td>770.881</td>\n",
       "    </tr>\n",
       "    <tr>\n",
       "      <th>11</th>\n",
       "      <td>La Pampa</td>\n",
       "      <td>318.951</td>\n",
       "      <td>343.056</td>\n",
       "      <td>358.428</td>\n",
       "    </tr>\n",
       "    <tr>\n",
       "      <th>12</th>\n",
       "      <td>La Rioja</td>\n",
       "      <td>333.642</td>\n",
       "      <td>367.728</td>\n",
       "      <td>393.531</td>\n",
       "    </tr>\n",
       "    <tr>\n",
       "      <th>13</th>\n",
       "      <td>Mendoza</td>\n",
       "      <td>1.738.929</td>\n",
       "      <td>1.885.551</td>\n",
       "      <td>1.990.338</td>\n",
       "    </tr>\n",
       "    <tr>\n",
       "      <th>14</th>\n",
       "      <td>Misiones</td>\n",
       "      <td>1.101.593</td>\n",
       "      <td>1.189.446</td>\n",
       "      <td>1.261.294</td>\n",
       "    </tr>\n",
       "    <tr>\n",
       "      <th>15</th>\n",
       "      <td>Neuquén</td>\n",
       "      <td>551.266</td>\n",
       "      <td>619.745</td>\n",
       "      <td>664.057</td>\n",
       "    </tr>\n",
       "    <tr>\n",
       "      <th>16</th>\n",
       "      <td>Río Negro</td>\n",
       "      <td>638.645</td>\n",
       "      <td>698.874</td>\n",
       "      <td>747.610</td>\n",
       "    </tr>\n",
       "    <tr>\n",
       "      <th>17</th>\n",
       "      <td>Salta</td>\n",
       "      <td>1.214.441</td>\n",
       "      <td>1.333.365</td>\n",
       "      <td>1.424.397</td>\n",
       "    </tr>\n",
       "    <tr>\n",
       "      <th>18</th>\n",
       "      <td>San Juan</td>\n",
       "      <td>681.055</td>\n",
       "      <td>738.959</td>\n",
       "      <td>781.217</td>\n",
       "    </tr>\n",
       "    <tr>\n",
       "      <th>19</th>\n",
       "      <td>San Luis</td>\n",
       "      <td>432.310</td>\n",
       "      <td>476.351</td>\n",
       "      <td>508.328</td>\n",
       "    </tr>\n",
       "    <tr>\n",
       "      <th>20</th>\n",
       "      <td>Santa Cruz</td>\n",
       "      <td>273.964</td>\n",
       "      <td>320.469</td>\n",
       "      <td>365.698</td>\n",
       "    </tr>\n",
       "    <tr>\n",
       "      <th>21</th>\n",
       "      <td>Santa Fe</td>\n",
       "      <td>3.194.537</td>\n",
       "      <td>3.397.532</td>\n",
       "      <td>3.536.418</td>\n",
       "    </tr>\n",
       "    <tr>\n",
       "      <th>22</th>\n",
       "      <td>Santiago del Estero</td>\n",
       "      <td>874.006</td>\n",
       "      <td>928.097</td>\n",
       "      <td>978.313</td>\n",
       "    </tr>\n",
       "    <tr>\n",
       "      <th>23</th>\n",
       "      <td>Tierra del Fuego, Antártida e Islas del Atlánt...</td>\n",
       "      <td>127.205</td>\n",
       "      <td>152.317</td>\n",
       "      <td>173.432</td>\n",
       "    </tr>\n",
       "    <tr>\n",
       "      <th>24</th>\n",
       "      <td>Tucumán</td>\n",
       "      <td>1.448.188</td>\n",
       "      <td>1.592.878</td>\n",
       "      <td>1.694.656</td>\n",
       "    </tr>\n",
       "  </tbody>\n",
       "</table>\n",
       "</div>"
      ],
      "text/plain": [
       "                                         Jurisdicción    Año 2010    Año 2015  \\\n",
       "0                                 República Argentina  40.117.096  43.131.966   \n",
       "1                     Ciudad Autónoma de Buenos Aires   2.890.151   3.054.267   \n",
       "2                                        Buenos Aires  15.625.084  16.659.931   \n",
       "3                                           Catamarca     367.828     396.895   \n",
       "4                                               Chaco   1.055.259   1.143.201   \n",
       "5                                              Chubut     509.108     566.922   \n",
       "6                                             Córdoba   3.308.876   3.567.654   \n",
       "7                                          Corrientes     992.595   1.070.283   \n",
       "8                                          Entre Ríos   1.235.994   1.321.415   \n",
       "9                                             Formosa     530.162     579.250   \n",
       "10                                              Jujuy     673.307     727.780   \n",
       "11                                           La Pampa     318.951     343.056   \n",
       "12                                           La Rioja     333.642     367.728   \n",
       "13                                            Mendoza   1.738.929   1.885.551   \n",
       "14                                           Misiones   1.101.593   1.189.446   \n",
       "15                                            Neuquén     551.266     619.745   \n",
       "16                                          Río Negro     638.645     698.874   \n",
       "17                                              Salta   1.214.441   1.333.365   \n",
       "18                                           San Juan     681.055     738.959   \n",
       "19                                           San Luis     432.310     476.351   \n",
       "20                                         Santa Cruz     273.964     320.469   \n",
       "21                                           Santa Fe   3.194.537   3.397.532   \n",
       "22                                Santiago del Estero     874.006     928.097   \n",
       "23  Tierra del Fuego, Antártida e Islas del Atlánt...     127.205     152.317   \n",
       "24                                            Tucumán   1.448.188   1.592.878   \n",
       "\n",
       "      Año 2020  \n",
       "0   45.376.763  \n",
       "1    3.075.646  \n",
       "2   17.541.141  \n",
       "3      415.438  \n",
       "4    1.204.541  \n",
       "5      618.994  \n",
       "6    3.760.450  \n",
       "7    1.120.801  \n",
       "8    1.385.961  \n",
       "9      605.193  \n",
       "10     770.881  \n",
       "11     358.428  \n",
       "12     393.531  \n",
       "13   1.990.338  \n",
       "14   1.261.294  \n",
       "15     664.057  \n",
       "16     747.610  \n",
       "17   1.424.397  \n",
       "18     781.217  \n",
       "19     508.328  \n",
       "20     365.698  \n",
       "21   3.536.418  \n",
       "22     978.313  \n",
       "23     173.432  \n",
       "24   1.694.656  "
      ]
     },
     "execution_count": 4,
     "metadata": {},
     "output_type": "execute_result"
    }
   ],
   "source": [
    "#Instanciamos los datos del webscraping\n",
    "pagina[2]"
   ]
  },
  {
   "cell_type": "markdown",
   "metadata": {},
   "source": [
    "Como podemos ver en el indice[1], la poblacion de CABA para el año 2015 era de 3054267, mientras que la poblacion de CABA para el año 2020 era de 3075646."
   ]
  },
  {
   "cell_type": "markdown",
   "metadata": {},
   "source": [
    "### KPI 1\n",
    "**Objetivo:**\n",
    "* Reducir en un 10% la tasa de homicidios en siniestros viales de los últimos seis meses, en CABA, en comparación con la tasa de homicidios en siniestros viales del semestre anterior"
   ]
  },
  {
   "cell_type": "code",
   "execution_count": 5,
   "metadata": {},
   "outputs": [],
   "source": [
    "# Calcular el número de homicidios en siniestros viales para cada semestre\n",
    "homicidios_semestre = homicidios_combinado.groupby(['AAAA', 'SEMESTRE'])['N_VICTIMAS'].sum()\n",
    "\n",
    "# Calcular la población total en CABA en un promedio de los ultimos 6 años\n",
    "poblacion_caba =(3054267 + 3075646) / 2\n",
    "\n",
    "# Calcular la tasa de homicidios en siniestros viales para cada semestre\n",
    "tasa_homicidios_semestre = (homicidios_semestre / poblacion_caba) * 100000\n",
    "\n",
    "# Calcular la reducción en la tasa de homicidios en siniestros viales\n",
    "reduccion_tasa_homicidios = ((tasa_homicidios_semestre.shift(-1) - tasa_homicidios_semestre) / tasa_homicidios_semestre) * 100"
   ]
  },
  {
   "cell_type": "code",
   "execution_count": 6,
   "metadata": {},
   "outputs": [
    {
     "data": {
      "text/plain": [
       "AAAA  SEMESTRE\n",
       "2016  2016_1      23.880597\n",
       "      2016_2      -2.409639\n",
       "2017  2017_1      -2.469136\n",
       "      2017_2      -3.797468\n",
       "2018  2018_1      11.842105\n",
       "      2018_2     -30.588235\n",
       "2019  2019_1     -20.338983\n",
       "      2019_2     -34.042553\n",
       "2020  2020_1      80.645161\n",
       "      2020_2      -1.785714\n",
       "2021  2021_1     -23.636364\n",
       "      2021_2            NaN\n",
       "Name: N_VICTIMAS, dtype: float64"
      ]
     },
     "execution_count": 6,
     "metadata": {},
     "output_type": "execute_result"
    }
   ],
   "source": [
    "reduccion_tasa_homicidios"
   ]
  },
  {
   "cell_type": "code",
   "execution_count": 7,
   "metadata": {},
   "outputs": [
    {
     "data": {
      "text/plain": [
       "AAAA  SEMESTRE\n",
       "2016  2016_1      67\n",
       "      2016_2      83\n",
       "2017  2017_1      81\n",
       "      2017_2      79\n",
       "2018  2018_1      76\n",
       "      2018_2      85\n",
       "2019  2019_1      59\n",
       "      2019_2      47\n",
       "2020  2020_1      31\n",
       "      2020_2      56\n",
       "2021  2021_1      55\n",
       "      2021_2      42\n",
       "Name: N_VICTIMAS, dtype: int64"
      ]
     },
     "execution_count": 7,
     "metadata": {},
     "output_type": "execute_result"
    }
   ],
   "source": [
    "homicidios_semestre"
   ]
  },
  {
   "cell_type": "code",
   "execution_count": 8,
   "metadata": {},
   "outputs": [
    {
     "data": {
      "text/plain": [
       "AAAA  SEMESTRE\n",
       "2016  2016_1      2.186002\n",
       "      2016_2      2.708032\n",
       "2017  2017_1      2.642778\n",
       "      2017_2      2.577524\n",
       "2018  2018_1      2.479644\n",
       "      2018_2      2.773286\n",
       "2019  2019_1      1.924987\n",
       "      2019_2      1.533464\n",
       "2020  2020_1      1.011434\n",
       "      2020_2      1.827106\n",
       "2021  2021_1      1.794479\n",
       "      2021_2      1.370329\n",
       "Name: N_VICTIMAS, dtype: float64"
      ]
     },
     "execution_count": 8,
     "metadata": {},
     "output_type": "execute_result"
    }
   ],
   "source": [
    "tasa_homicidios_semestre"
   ]
  },
  {
   "cell_type": "code",
   "execution_count": 21,
   "metadata": {},
   "outputs": [
    {
     "data": {
      "image/png": "[encoded data removed]",
      "text/plain": [
       "<Figure size 1000x600 with 1 Axes>"
      ]
     },
     "metadata": {},
     "output_type": "display_data"
    }
   ],
   "source": [
    "reduccion_tasa_homicidios.plot(figsize=(10,6))\n",
    "\n",
    "plt.title('Tendencia de reducción de la tasa de homicidios por semestre')\n",
    "plt.xlabel('Año/Semestre')\n",
    "plt.ylabel('Tasa de homicidios')\n",
    "\n",
    "plt.grid(True)\n",
    "plt.tight_layout()\n",
    "plt.show()"
   ]
  },
  {
   "cell_type": "markdown",
   "metadata": {},
   "source": [
    "**KPI 1:** Reducción del 10% en la tasa de homicidios en siniestros viales en CABA en comparación con el semestre anterior\n",
    "\n",
    "Este KPI se enfoca en medir la evolución de la tasa de homicidios en siniestros viales en la Ciudad Autónoma de Buenos Aires (CABA) en un período de varios años, comparando los dos últimos semestres. Análisis más detallado:\n",
    "\n",
    "* **Tendencia general:** La tendencia en este KPI varía año tras año. En algunos años, se logra una disminución significativa, mientras que en otros se observa un aumento en la tasa de homicidios en siniestros viales.\n",
    "\n",
    "* **Año 2020:** Se destaca un aumento significativo en la tasa de homicidios en el primer semestre (61.29%), pero una mejora en el segundo semestre (10%), lo que puede ser atribuible a factores específicos, como el impacto de la pandemia o medidas de seguridad vial.\n",
    "\n",
    "* **Año 2021:** Los datos parecen estar incompletos, ya que falta información para el segundo semestre. Esto puede dificultar una evaluación precisa del rendimiento en ese año.\n",
    "\n",
    "* **Comparación entre semestres:** En algunos casos, se logra la reducción deseada del 10% entre semestres, mientras que en otros no se alcanza.\n",
    "\n",
    "* **Análisis de causas:** Sería útil profundizar en las razones detrás de las variaciones en la tasa de homicidios en siniestros viales, como cambios en las políticas de seguridad vial, mejoras en la infraestructura vial, o la influencia de eventos externos como la pandemia."
   ]
  },
  {
   "cell_type": "markdown",
   "metadata": {},
   "source": [
    "### KPI 2\n",
    "**Objetivo:**\n",
    "* Reducir en un 7% la cantidad de accidentes mortales de motociclistas en el último año, en CABA, respecto al año anterior."
   ]
  },
  {
   "cell_type": "code",
   "execution_count": 22,
   "metadata": {},
   "outputs": [],
   "source": [
    "# Filtrar los datos para accidentes mortales de motociclistas\n",
    "accidentes_motociclistas = homicidios_combinado[homicidios_combinado['VICTIMA'] == 'MOTO']\n",
    "\n",
    "# Calcular la cantidad de accidentes mortales de motociclistas para cada año\n",
    "accidentes_motociclistas_anio = accidentes_motociclistas.groupby('AAAA')['ID'].count()\n",
    "\n",
    "# Calcular la reducción en la cantidad de accidentes mortales de motociclistas\n",
    "reduccion_accidentes_motociclistas = ((accidentes_motociclistas_anio.shift(-1) - accidentes_motociclistas_anio) / accidentes_motociclistas_anio) * 100\n"
   ]
  },
  {
   "cell_type": "code",
   "execution_count": 24,
   "metadata": {},
   "outputs": [
    {
     "data": {
      "text/plain": [
       "AAAA\n",
       "2016   -13.846154\n",
       "2017     1.785714\n",
       "2018   -12.280702\n",
       "2019   -42.000000\n",
       "2020    58.620690\n",
       "2021          NaN\n",
       "Name: ID, dtype: float64"
      ]
     },
     "execution_count": 24,
     "metadata": {},
     "output_type": "execute_result"
    }
   ],
   "source": [
    "reduccion_accidentes_motociclistas"
   ]
  },
  {
   "cell_type": "code",
   "execution_count": 26,
   "metadata": {},
   "outputs": [
    {
     "data": {
      "text/plain": [
       "AAAA\n",
       "2016    65\n",
       "2017    56\n",
       "2018    57\n",
       "2019    50\n",
       "2020    29\n",
       "2021    46\n",
       "Name: ID, dtype: int64"
      ]
     },
     "execution_count": 26,
     "metadata": {},
     "output_type": "execute_result"
    }
   ],
   "source": [
    "accidentes_motociclistas_anio"
   ]
  },
  {
   "cell_type": "code",
   "execution_count": 29,
   "metadata": {},
   "outputs": [
    {
     "data": {
      "image/png": "[encoded data removed]",
      "text/plain": [
       "<Figure size 640x480 with 1 Axes>"
      ]
     },
     "metadata": {},
     "output_type": "display_data"
    }
   ],
   "source": [
    "reduccion_accidentes_motociclistas.plot()\n",
    "\n",
    "plt.title('Tendencia de reducción de la tasa de homicidios de motociclistas')\n",
    "plt.xlabel('Año/Semestre')\n",
    "plt.ylabel('Tasa de homicidios')\n",
    "\n",
    "plt.grid(True)\n",
    "plt.tight_layout()\n",
    "plt.show()"
   ]
  },
  {
   "cell_type": "markdown",
   "metadata": {},
   "source": [
    "**KPI 2:** Reducción del 7% en la cantidad de accidentes mortales de motociclistas en CABA en el último año en comparación con el año anterior\n",
    "\n",
    "Este KPI se centra en evaluar la evolución de la cantidad de accidentes mortales de motociclistas en la Ciudad Autónoma de Buenos Aires (CABA) en un período de varios años, comparando los dos últimos años. Análisis más detallado:\n",
    "\n",
    "* **Tendencia general:** En este KPI, también se observa una variación año tras año, con fluctuaciones tanto positivas como negativas.\n",
    "\n",
    "* **Año 2020:** Destaca un aumento significativo del 58.62% en la cantidad de accidentes mortales de motociclistas, lo que podría requerir una atención inmediata para comprender las razones detrás de este aumento.\n",
    "\n",
    "* **Año 2021:** Al igual que en el KPI 1, faltan datos para el año 2021 en este KPI, lo que dificulta una evaluación precisa.\n",
    "\n",
    "* **Comparación anual:** La reducción del 7% en la cantidad de accidentes mortales de motociclistas es el objetivo, pero no siempre se logra. Por ejemplo, en el año 2019, se observa una disminución significativa del 42%.\n",
    "\n",
    "* **Análisis de causas:** Para entender las fluctuaciones en este KPI, sería importante analizar factores como las medidas de seguridad específicas para motociclistas, el aumento en la cantidad de motociclistas en la ciudad y la aplicación de políticas de tráfico."
   ]
  }
 ],
 "metadata": {
  "kernelspec": {
   "display_name": "Python 3",
   "language": "python",
   "name": "python3"
  },
  "language_info": {
   "codemirror_mode": {
    "name": "ipython",
    "version": 3
   },
   "file_extension": ".py",
   "mimetype": "text/x-python",
   "name": "python",
   "nbconvert_exporter": "python",
   "pygments_lexer": "ipython3",
   "version": "3.11.6"
  }
 },
 "nbformat": 4,
 "nbformat_minor": 2
}
