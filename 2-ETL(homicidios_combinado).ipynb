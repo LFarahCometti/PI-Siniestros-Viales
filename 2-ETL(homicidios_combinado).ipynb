{
 "cells": [
  {
   "cell_type": "markdown",
   "metadata": {},
   "source": [
    "# ETL `homicidios_combinado`"
   ]
  },
  {
   "cell_type": "markdown",
   "metadata": {},
   "source": [
    "Como lo dice el titulo, en este notebook vamos a combinar los dataframes `hechos_homicidios` y `victimas_homicidios` con el objetivo de tener un dataframe con toda la informacion necesaria para hacer el EDA. "
   ]
  },
  {
   "cell_type": "markdown",
   "metadata": {},
   "source": [
    "### Importamos librerias necesarias"
   ]
  },
  {
   "cell_type": "code",
   "execution_count": 1,
   "metadata": {},
   "outputs": [],
   "source": [
    "import pandas as pd \n",
    "import numpy as np"
   ]
  },
  {
   "cell_type": "markdown",
   "metadata": {},
   "source": [
    "### Procedemos con la carga de los dataframes"
   ]
  },
  {
   "cell_type": "code",
   "execution_count": 2,
   "metadata": {},
   "outputs": [],
   "source": [
    "#cargamos el dataframe `hechos_homicidios`\n",
    "hechos_homicidios = pd.read_csv('datasets_limpios/hechos_homicidios.csv')\n",
    "#cargamos el dataframe `victimas_homicidios`\n",
    "victimas_homicidios = pd.read_csv('datasets_limpios/victimas_homicidios.csv')"
   ]
  },
  {
   "cell_type": "code",
   "execution_count": 3,
   "metadata": {},
   "outputs": [
    {
     "data": {
      "text/html": [
       "<div>\n",
       "<style scoped>\n",
       "    .dataframe tbody tr th:only-of-type {\n",
       "        vertical-align: middle;\n",
       "    }\n",
       "\n",
       "    .dataframe tbody tr th {\n",
       "        vertical-align: top;\n",
       "    }\n",
       "\n",
       "    .dataframe thead th {\n",
       "        text-align: right;\n",
       "    }\n",
       "</style>\n",
       "<table border=\"1\" class=\"dataframe\">\n",
       "  <thead>\n",
       "    <tr style=\"text-align: right;\">\n",
       "      <th></th>\n",
       "      <th>ID</th>\n",
       "      <th>N_VICTIMAS</th>\n",
       "      <th>FECHA</th>\n",
       "      <th>AAAA</th>\n",
       "      <th>MM</th>\n",
       "      <th>FRANJA_HORARIA</th>\n",
       "      <th>LUGAR_DEL_HECHO</th>\n",
       "      <th>TIPO_DE_CALLE</th>\n",
       "      <th>CALLE</th>\n",
       "      <th>DIRECCIÓN NORMALIZADA</th>\n",
       "      <th>COMUNA</th>\n",
       "      <th>XY (CABA)</th>\n",
       "      <th>POS X</th>\n",
       "      <th>POS Y</th>\n",
       "      <th>PARTICIPANTES</th>\n",
       "      <th>VICTIMA</th>\n",
       "      <th>ACUSADO</th>\n",
       "    </tr>\n",
       "  </thead>\n",
       "  <tbody>\n",
       "    <tr>\n",
       "      <th>0</th>\n",
       "      <td>2016-0001</td>\n",
       "      <td>1</td>\n",
       "      <td>2016-01-01</td>\n",
       "      <td>2016</td>\n",
       "      <td>1</td>\n",
       "      <td>4</td>\n",
       "      <td>AV PIEDRA BUENA Y AV FERNANDEZ DE LA CRUZ</td>\n",
       "      <td>AVENIDA</td>\n",
       "      <td>PIEDRA BUENA AV.</td>\n",
       "      <td>PIEDRA BUENA AV. y FERNANDEZ DE LA CRUZ, F., G...</td>\n",
       "      <td>8</td>\n",
       "      <td>Point (98896.78238426 93532.43437792)</td>\n",
       "      <td>-58.47533969</td>\n",
       "      <td>-34.68757022</td>\n",
       "      <td>MOTO-AUTO</td>\n",
       "      <td>MOTO</td>\n",
       "      <td>AUTO</td>\n",
       "    </tr>\n",
       "  </tbody>\n",
       "</table>\n",
       "</div>"
      ],
      "text/plain": [
       "          ID  N_VICTIMAS       FECHA  AAAA  MM FRANJA_HORARIA  \\\n",
       "0  2016-0001           1  2016-01-01  2016   1              4   \n",
       "\n",
       "                             LUGAR_DEL_HECHO TIPO_DE_CALLE             CALLE  \\\n",
       "0  AV PIEDRA BUENA Y AV FERNANDEZ DE LA CRUZ       AVENIDA  PIEDRA BUENA AV.   \n",
       "\n",
       "                               DIRECCIÓN NORMALIZADA  COMUNA  \\\n",
       "0  PIEDRA BUENA AV. y FERNANDEZ DE LA CRUZ, F., G...       8   \n",
       "\n",
       "                               XY (CABA)         POS X         POS Y  \\\n",
       "0  Point (98896.78238426 93532.43437792)  -58.47533969  -34.68757022   \n",
       "\n",
       "  PARTICIPANTES VICTIMA ACUSADO  \n",
       "0     MOTO-AUTO    MOTO    AUTO  "
      ]
     },
     "execution_count": 3,
     "metadata": {},
     "output_type": "execute_result"
    }
   ],
   "source": [
    "hechos_homicidios.head(1) #visualizamos que el dataframe se haya cargado de forma exitosa. "
   ]
  },
  {
   "cell_type": "code",
   "execution_count": 4,
   "metadata": {},
   "outputs": [
    {
     "data": {
      "text/html": [
       "<div>\n",
       "<style scoped>\n",
       "    .dataframe tbody tr th:only-of-type {\n",
       "        vertical-align: middle;\n",
       "    }\n",
       "\n",
       "    .dataframe tbody tr th {\n",
       "        vertical-align: top;\n",
       "    }\n",
       "\n",
       "    .dataframe thead th {\n",
       "        text-align: right;\n",
       "    }\n",
       "</style>\n",
       "<table border=\"1\" class=\"dataframe\">\n",
       "  <thead>\n",
       "    <tr style=\"text-align: right;\">\n",
       "      <th></th>\n",
       "      <th>ID</th>\n",
       "      <th>FECHA</th>\n",
       "      <th>AAAA</th>\n",
       "      <th>MM</th>\n",
       "      <th>ROL</th>\n",
       "      <th>VICTIMA</th>\n",
       "      <th>SEXO</th>\n",
       "      <th>EDAD</th>\n",
       "      <th>FECHA_FALLECIMIENTO</th>\n",
       "    </tr>\n",
       "  </thead>\n",
       "  <tbody>\n",
       "    <tr>\n",
       "      <th>0</th>\n",
       "      <td>2016-0001</td>\n",
       "      <td>2016-01-01</td>\n",
       "      <td>2016</td>\n",
       "      <td>1</td>\n",
       "      <td>CONDUCTOR</td>\n",
       "      <td>MOTO</td>\n",
       "      <td>MASCULINO</td>\n",
       "      <td>19</td>\n",
       "      <td>2016-01-01 00:00:00</td>\n",
       "    </tr>\n",
       "  </tbody>\n",
       "</table>\n",
       "</div>"
      ],
      "text/plain": [
       "          ID       FECHA  AAAA  MM        ROL VICTIMA       SEXO EDAD  \\\n",
       "0  2016-0001  2016-01-01  2016   1  CONDUCTOR    MOTO  MASCULINO   19   \n",
       "\n",
       "   FECHA_FALLECIMIENTO  \n",
       "0  2016-01-01 00:00:00  "
      ]
     },
     "execution_count": 4,
     "metadata": {},
     "output_type": "execute_result"
    }
   ],
   "source": [
    "victimas_homicidios.head(1) #visualizamos que el dataframe se haya cargado de forma exitosa. "
   ]
  },
  {
   "cell_type": "markdown",
   "metadata": {},
   "source": [
    "Una vez cargados ambos datasets, procedemos a combinarlos con el metodo merge. "
   ]
  },
  {
   "cell_type": "code",
   "execution_count": 5,
   "metadata": {},
   "outputs": [
    {
     "data": {
      "text/html": [
       "<div>\n",
       "<style scoped>\n",
       "    .dataframe tbody tr th:only-of-type {\n",
       "        vertical-align: middle;\n",
       "    }\n",
       "\n",
       "    .dataframe tbody tr th {\n",
       "        vertical-align: top;\n",
       "    }\n",
       "\n",
       "    .dataframe thead th {\n",
       "        text-align: right;\n",
       "    }\n",
       "</style>\n",
       "<table border=\"1\" class=\"dataframe\">\n",
       "  <thead>\n",
       "    <tr style=\"text-align: right;\">\n",
       "      <th></th>\n",
       "      <th>ID</th>\n",
       "      <th>N_VICTIMAS</th>\n",
       "      <th>FECHA_x</th>\n",
       "      <th>AAAA_x</th>\n",
       "      <th>MM_x</th>\n",
       "      <th>FRANJA_HORARIA</th>\n",
       "      <th>LUGAR_DEL_HECHO</th>\n",
       "      <th>TIPO_DE_CALLE</th>\n",
       "      <th>CALLE</th>\n",
       "      <th>DIRECCIÓN NORMALIZADA</th>\n",
       "      <th>...</th>\n",
       "      <th>VICTIMA_x</th>\n",
       "      <th>ACUSADO</th>\n",
       "      <th>FECHA_y</th>\n",
       "      <th>AAAA_y</th>\n",
       "      <th>MM_y</th>\n",
       "      <th>ROL</th>\n",
       "      <th>VICTIMA_y</th>\n",
       "      <th>SEXO</th>\n",
       "      <th>EDAD</th>\n",
       "      <th>FECHA_FALLECIMIENTO</th>\n",
       "    </tr>\n",
       "  </thead>\n",
       "  <tbody>\n",
       "    <tr>\n",
       "      <th>0</th>\n",
       "      <td>2016-0001</td>\n",
       "      <td>1</td>\n",
       "      <td>2016-01-01</td>\n",
       "      <td>2016</td>\n",
       "      <td>1</td>\n",
       "      <td>4</td>\n",
       "      <td>AV PIEDRA BUENA Y AV FERNANDEZ DE LA CRUZ</td>\n",
       "      <td>AVENIDA</td>\n",
       "      <td>PIEDRA BUENA AV.</td>\n",
       "      <td>PIEDRA BUENA AV. y FERNANDEZ DE LA CRUZ, F., G...</td>\n",
       "      <td>...</td>\n",
       "      <td>MOTO</td>\n",
       "      <td>AUTO</td>\n",
       "      <td>2016-01-01</td>\n",
       "      <td>2016</td>\n",
       "      <td>1</td>\n",
       "      <td>CONDUCTOR</td>\n",
       "      <td>MOTO</td>\n",
       "      <td>MASCULINO</td>\n",
       "      <td>19</td>\n",
       "      <td>2016-01-01 00:00:00</td>\n",
       "    </tr>\n",
       "    <tr>\n",
       "      <th>1</th>\n",
       "      <td>2016-0002</td>\n",
       "      <td>1</td>\n",
       "      <td>2016-01-02</td>\n",
       "      <td>2016</td>\n",
       "      <td>1</td>\n",
       "      <td>1</td>\n",
       "      <td>AV GRAL PAZ  Y AV DE LOS CORRALES</td>\n",
       "      <td>GRAL PAZ</td>\n",
       "      <td>PAZ, GRAL. AV.</td>\n",
       "      <td>PAZ, GRAL. AV. y DE LOS CORRALES AV.</td>\n",
       "      <td>...</td>\n",
       "      <td>AUTO</td>\n",
       "      <td>PASAJEROS</td>\n",
       "      <td>2016-01-02</td>\n",
       "      <td>2016</td>\n",
       "      <td>1</td>\n",
       "      <td>CONDUCTOR</td>\n",
       "      <td>AUTO</td>\n",
       "      <td>MASCULINO</td>\n",
       "      <td>70</td>\n",
       "      <td>2016-01-02 00:00:00</td>\n",
       "    </tr>\n",
       "  </tbody>\n",
       "</table>\n",
       "<p>2 rows × 25 columns</p>\n",
       "</div>"
      ],
      "text/plain": [
       "          ID  N_VICTIMAS     FECHA_x  AAAA_x  MM_x FRANJA_HORARIA  \\\n",
       "0  2016-0001           1  2016-01-01    2016     1              4   \n",
       "1  2016-0002           1  2016-01-02    2016     1              1   \n",
       "\n",
       "                             LUGAR_DEL_HECHO TIPO_DE_CALLE             CALLE  \\\n",
       "0  AV PIEDRA BUENA Y AV FERNANDEZ DE LA CRUZ       AVENIDA  PIEDRA BUENA AV.   \n",
       "1          AV GRAL PAZ  Y AV DE LOS CORRALES      GRAL PAZ    PAZ, GRAL. AV.   \n",
       "\n",
       "                               DIRECCIÓN NORMALIZADA  ...  VICTIMA_x  \\\n",
       "0  PIEDRA BUENA AV. y FERNANDEZ DE LA CRUZ, F., G...  ...       MOTO   \n",
       "1               PAZ, GRAL. AV. y DE LOS CORRALES AV.  ...       AUTO   \n",
       "\n",
       "     ACUSADO     FECHA_y AAAA_y MM_y        ROL VICTIMA_y       SEXO  EDAD  \\\n",
       "0       AUTO  2016-01-01   2016    1  CONDUCTOR      MOTO  MASCULINO    19   \n",
       "1  PASAJEROS  2016-01-02   2016    1  CONDUCTOR      AUTO  MASCULINO    70   \n",
       "\n",
       "   FECHA_FALLECIMIENTO  \n",
       "0  2016-01-01 00:00:00  \n",
       "1  2016-01-02 00:00:00  \n",
       "\n",
       "[2 rows x 25 columns]"
      ]
     },
     "execution_count": 5,
     "metadata": {},
     "output_type": "execute_result"
    }
   ],
   "source": [
    "homicidios_combinado = hechos_homicidios.merge(victimas_homicidios, on='ID', how='inner') #se fusionan los DataFrames 'hechos_homicidios' y 'victimas_homicidios' en función de los valores de la columna 'ID'.\n",
    "homicidios_combinado.head(2)                                                              #el parametro how='inner' lo usamos para que solo conserve las filas que tengan un valor coincidente en la columna 'ID' en ambos DataFrames"
   ]
  },
  {
   "cell_type": "code",
   "execution_count": 6,
   "metadata": {},
   "outputs": [
    {
     "data": {
      "text/plain": [
       "(717, 25)"
      ]
     },
     "execution_count": 6,
     "metadata": {},
     "output_type": "execute_result"
    }
   ],
   "source": [
    "homicidios_combinado.shape #vemos como esta conformado el nuevo df"
   ]
  },
  {
   "cell_type": "markdown",
   "metadata": {},
   "source": [
    "Procedemos a crear una funcion para encontrar las columnas que sean iguales en `homicidios_combinado`, para luego eliminarlas."
   ]
  },
  {
   "cell_type": "code",
   "execution_count": 7,
   "metadata": {},
   "outputs": [
    {
     "name": "stdout",
     "output_type": "stream",
     "text": [
      "Pares de columnas iguales:\n",
      "AAAA_x y AAAA_y son iguales\n",
      "MM_x y MM_y son iguales\n",
      "AAAA_y y AAAA_x son iguales\n",
      "MM_y y MM_x son iguales\n"
     ]
    }
   ],
   "source": [
    "def encontrar_columnas_iguales(df):\n",
    "    columnas_diferentes = []\n",
    "    columnas_iguales = []\n",
    "\n",
    "    for columna1 in df.columns:\n",
    "        for columna2 in df.columns:\n",
    "            if columna1 != columna2:\n",
    "                if (df[columna1] == df[columna2]).all():\n",
    "                    columnas_iguales.append((columna1, columna2))\n",
    "                elif not (df[columna1] == df[columna2]).all():\n",
    "                    columnas_diferentes.append((columna1, columna2))\n",
    "\n",
    "    return columnas_iguales, columnas_diferentes\n",
    "\n",
    "\n",
    "columnas_iguales, columnas_diferentes = encontrar_columnas_iguales(homicidios_combinado[homicidios_combinado.columns])\n",
    "\n",
    "print(\"Pares de columnas iguales:\")\n",
    "for columna1, columna2 in columnas_iguales:\n",
    "    print(f\"{columna1} y {columna2} son iguales\")"
   ]
  },
  {
   "cell_type": "markdown",
   "metadata": {},
   "source": [
    "Como podemos ver, las columnas 'AAAA_x' y 'AAAA_y' son iguales, por lo que procedemos a borrar la segunda ('AAAA_y').\n",
    "Lo mismo sucede con las columnas 'MM_x' y 'MM_y', borramos la segunda columna ('MM_y')."
   ]
  },
  {
   "cell_type": "code",
   "execution_count": 8,
   "metadata": {},
   "outputs": [
    {
     "data": {
      "text/html": [
       "<div>\n",
       "<style scoped>\n",
       "    .dataframe tbody tr th:only-of-type {\n",
       "        vertical-align: middle;\n",
       "    }\n",
       "\n",
       "    .dataframe tbody tr th {\n",
       "        vertical-align: top;\n",
       "    }\n",
       "\n",
       "    .dataframe thead th {\n",
       "        text-align: right;\n",
       "    }\n",
       "</style>\n",
       "<table border=\"1\" class=\"dataframe\">\n",
       "  <thead>\n",
       "    <tr style=\"text-align: right;\">\n",
       "      <th></th>\n",
       "      <th>ID</th>\n",
       "      <th>N_VICTIMAS</th>\n",
       "      <th>FECHA_x</th>\n",
       "      <th>AAAA_x</th>\n",
       "      <th>MM_x</th>\n",
       "      <th>FRANJA_HORARIA</th>\n",
       "      <th>LUGAR_DEL_HECHO</th>\n",
       "      <th>TIPO_DE_CALLE</th>\n",
       "      <th>CALLE</th>\n",
       "      <th>DIRECCIÓN NORMALIZADA</th>\n",
       "      <th>...</th>\n",
       "      <th>POS Y</th>\n",
       "      <th>PARTICIPANTES</th>\n",
       "      <th>VICTIMA_x</th>\n",
       "      <th>ACUSADO</th>\n",
       "      <th>FECHA_y</th>\n",
       "      <th>ROL</th>\n",
       "      <th>VICTIMA_y</th>\n",
       "      <th>SEXO</th>\n",
       "      <th>EDAD</th>\n",
       "      <th>FECHA_FALLECIMIENTO</th>\n",
       "    </tr>\n",
       "  </thead>\n",
       "  <tbody>\n",
       "    <tr>\n",
       "      <th>0</th>\n",
       "      <td>2016-0001</td>\n",
       "      <td>1</td>\n",
       "      <td>2016-01-01</td>\n",
       "      <td>2016</td>\n",
       "      <td>1</td>\n",
       "      <td>4</td>\n",
       "      <td>AV PIEDRA BUENA Y AV FERNANDEZ DE LA CRUZ</td>\n",
       "      <td>AVENIDA</td>\n",
       "      <td>PIEDRA BUENA AV.</td>\n",
       "      <td>PIEDRA BUENA AV. y FERNANDEZ DE LA CRUZ, F., G...</td>\n",
       "      <td>...</td>\n",
       "      <td>-34.68757022</td>\n",
       "      <td>MOTO-AUTO</td>\n",
       "      <td>MOTO</td>\n",
       "      <td>AUTO</td>\n",
       "      <td>2016-01-01</td>\n",
       "      <td>CONDUCTOR</td>\n",
       "      <td>MOTO</td>\n",
       "      <td>MASCULINO</td>\n",
       "      <td>19</td>\n",
       "      <td>2016-01-01 00:00:00</td>\n",
       "    </tr>\n",
       "  </tbody>\n",
       "</table>\n",
       "<p>1 rows × 23 columns</p>\n",
       "</div>"
      ],
      "text/plain": [
       "          ID  N_VICTIMAS     FECHA_x  AAAA_x  MM_x FRANJA_HORARIA  \\\n",
       "0  2016-0001           1  2016-01-01    2016     1              4   \n",
       "\n",
       "                             LUGAR_DEL_HECHO TIPO_DE_CALLE             CALLE  \\\n",
       "0  AV PIEDRA BUENA Y AV FERNANDEZ DE LA CRUZ       AVENIDA  PIEDRA BUENA AV.   \n",
       "\n",
       "                               DIRECCIÓN NORMALIZADA  ...         POS Y  \\\n",
       "0  PIEDRA BUENA AV. y FERNANDEZ DE LA CRUZ, F., G...  ...  -34.68757022   \n",
       "\n",
       "  PARTICIPANTES VICTIMA_x ACUSADO     FECHA_y        ROL VICTIMA_y       SEXO  \\\n",
       "0     MOTO-AUTO      MOTO    AUTO  2016-01-01  CONDUCTOR      MOTO  MASCULINO   \n",
       "\n",
       "  EDAD  FECHA_FALLECIMIENTO  \n",
       "0   19  2016-01-01 00:00:00  \n",
       "\n",
       "[1 rows x 23 columns]"
      ]
     },
     "execution_count": 8,
     "metadata": {},
     "output_type": "execute_result"
    }
   ],
   "source": [
    "homicidios_combinado = homicidios_combinado.drop(columns=['AAAA_y', 'MM_y'], axis=1)\n",
    "homicidios_combinado.head(1)"
   ]
  },
  {
   "cell_type": "markdown",
   "metadata": {},
   "source": [
    "Una vez eliminadas las columnas 'AAAA_y' y 'MM_y', procedemos a cambiar el nombre de la columna 'AAAA_x' por 'AAAA' y el de la columna 'MM_x' por 'MM'."
   ]
  },
  {
   "cell_type": "code",
   "execution_count": 9,
   "metadata": {},
   "outputs": [],
   "source": [
    "homicidios_combinado = homicidios_combinado.rename(columns={'AAAA_x': 'AAAA'}) #Renombramos la columna 'AAAA_x' por 'AAAA'"
   ]
  },
  {
   "cell_type": "code",
   "execution_count": 10,
   "metadata": {},
   "outputs": [],
   "source": [
    "homicidios_combinado =  homicidios_combinado.rename(columns={'MM_x': 'MM'}) #Renombramos la columna 'MM_x' por 'MM'"
   ]
  },
  {
   "cell_type": "code",
   "execution_count": 11,
   "metadata": {},
   "outputs": [
    {
     "data": {
      "text/plain": [
       "Index(['ID', 'N_VICTIMAS', 'FECHA_x', 'AAAA', 'MM', 'FRANJA_HORARIA',\n",
       "       'LUGAR_DEL_HECHO', 'TIPO_DE_CALLE', 'CALLE', 'DIRECCIÓN NORMALIZADA',\n",
       "       'COMUNA', 'XY (CABA)', 'POS X', 'POS Y', 'PARTICIPANTES', 'VICTIMA_x',\n",
       "       'ACUSADO', 'FECHA_y', 'ROL', 'VICTIMA_y', 'SEXO', 'EDAD',\n",
       "       'FECHA_FALLECIMIENTO'],\n",
       "      dtype='object')"
      ]
     },
     "execution_count": 11,
     "metadata": {},
     "output_type": "execute_result"
    }
   ],
   "source": [
    "homicidios_combinado.columns"
   ]
  },
  {
   "cell_type": "markdown",
   "metadata": {},
   "source": [
    "Verificamos porque las columnas 'FECHA'  y 'VICTIMA' no son iguales. Para esto, vamos a usar un bucle `for` que itere sobre las filas de dichas columnas y nos devuelva el indice donde estas no son iguales."
   ]
  },
  {
   "cell_type": "code",
   "execution_count": 12,
   "metadata": {},
   "outputs": [],
   "source": [
    "indices=[]\n",
    "for index, row  in homicidios_combinado[['FECHA_x', 'FECHA_y', 'VICTIMA_x', 'VICTIMA_y']].iterrows():\n",
    "\n",
    "    if row['FECHA_x'] !=row['FECHA_y']:\n",
    "        indices.append(index)\n",
    "\n",
    "    if row['VICTIMA_x'] !=row['VICTIMA_y']:\n",
    "        indices.append(index)"
   ]
  },
  {
   "cell_type": "code",
   "execution_count": 13,
   "metadata": {},
   "outputs": [
    {
     "data": {
      "text/plain": [
       "[65, 204, 237, 238, 602, 603]"
      ]
     },
     "execution_count": 13,
     "metadata": {},
     "output_type": "execute_result"
    }
   ],
   "source": [
    "indices # llamamos a la lista 'indices' para ver que indices son diferentes en las columnas anteriormente mencionadas."
   ]
  },
  {
   "cell_type": "code",
   "execution_count": 14,
   "metadata": {},
   "outputs": [
    {
     "data": {
      "text/html": [
       "<div>\n",
       "<style scoped>\n",
       "    .dataframe tbody tr th:only-of-type {\n",
       "        vertical-align: middle;\n",
       "    }\n",
       "\n",
       "    .dataframe tbody tr th {\n",
       "        vertical-align: top;\n",
       "    }\n",
       "\n",
       "    .dataframe thead th {\n",
       "        text-align: right;\n",
       "    }\n",
       "</style>\n",
       "<table border=\"1\" class=\"dataframe\">\n",
       "  <thead>\n",
       "    <tr style=\"text-align: right;\">\n",
       "      <th></th>\n",
       "      <th>FECHA_x</th>\n",
       "      <th>FECHA_y</th>\n",
       "      <th>VICTIMA_x</th>\n",
       "      <th>VICTIMA_y</th>\n",
       "      <th>FECHA_FALLECIMIENTO</th>\n",
       "      <th>ACUSADO</th>\n",
       "    </tr>\n",
       "  </thead>\n",
       "  <tbody>\n",
       "    <tr>\n",
       "      <th>65</th>\n",
       "      <td>2016-07-02</td>\n",
       "      <td>2016-07-03</td>\n",
       "      <td>MOTO</td>\n",
       "      <td>MOTO</td>\n",
       "      <td>2016-07-03 00:00:00</td>\n",
       "      <td>OBJETO FIJO</td>\n",
       "    </tr>\n",
       "    <tr>\n",
       "      <th>204</th>\n",
       "      <td>2017-05-24</td>\n",
       "      <td>2017-05-29</td>\n",
       "      <td>MOTO</td>\n",
       "      <td>MOTO</td>\n",
       "      <td>2017-05-29 00:00:00</td>\n",
       "      <td>SD</td>\n",
       "    </tr>\n",
       "    <tr>\n",
       "      <th>237</th>\n",
       "      <td>2017-09-02</td>\n",
       "      <td>2017-09-02</td>\n",
       "      <td>OBJETO FIJO</td>\n",
       "      <td>AUTO</td>\n",
       "      <td>2017-09-02 00:00:00</td>\n",
       "      <td>AUTO</td>\n",
       "    </tr>\n",
       "    <tr>\n",
       "      <th>238</th>\n",
       "      <td>2017-09-02</td>\n",
       "      <td>2017-09-02</td>\n",
       "      <td>OBJETO FIJO</td>\n",
       "      <td>AUTO</td>\n",
       "      <td>2017-09-02 00:00:00</td>\n",
       "      <td>AUTO</td>\n",
       "    </tr>\n",
       "    <tr>\n",
       "      <th>602</th>\n",
       "      <td>2020-12-05</td>\n",
       "      <td>2020-12-05</td>\n",
       "      <td>PEATON_MOTO</td>\n",
       "      <td>PEATON</td>\n",
       "      <td>2020-12-05 00:00:00</td>\n",
       "      <td>MOTO</td>\n",
       "    </tr>\n",
       "    <tr>\n",
       "      <th>603</th>\n",
       "      <td>2020-12-05</td>\n",
       "      <td>2020-12-05</td>\n",
       "      <td>PEATON_MOTO</td>\n",
       "      <td>MOTO</td>\n",
       "      <td>2020-12-05 00:00:00</td>\n",
       "      <td>MOTO</td>\n",
       "    </tr>\n",
       "  </tbody>\n",
       "</table>\n",
       "</div>"
      ],
      "text/plain": [
       "        FECHA_x     FECHA_y    VICTIMA_x VICTIMA_y  FECHA_FALLECIMIENTO  \\\n",
       "65   2016-07-02  2016-07-03         MOTO      MOTO  2016-07-03 00:00:00   \n",
       "204  2017-05-24  2017-05-29         MOTO      MOTO  2017-05-29 00:00:00   \n",
       "237  2017-09-02  2017-09-02  OBJETO FIJO      AUTO  2017-09-02 00:00:00   \n",
       "238  2017-09-02  2017-09-02  OBJETO FIJO      AUTO  2017-09-02 00:00:00   \n",
       "602  2020-12-05  2020-12-05  PEATON_MOTO    PEATON  2020-12-05 00:00:00   \n",
       "603  2020-12-05  2020-12-05  PEATON_MOTO      MOTO  2020-12-05 00:00:00   \n",
       "\n",
       "         ACUSADO  \n",
       "65   OBJETO FIJO  \n",
       "204           SD  \n",
       "237         AUTO  \n",
       "238         AUTO  \n",
       "602         MOTO  \n",
       "603         MOTO  "
      ]
     },
     "execution_count": 14,
     "metadata": {},
     "output_type": "execute_result"
    }
   ],
   "source": [
    "homicidios_combinado[['FECHA_x','FECHA_y', 'VICTIMA_x', 'VICTIMA_y', 'FECHA_FALLECIMIENTO', 'ACUSADO']].iloc[indices]"
   ]
  },
  {
   "cell_type": "markdown",
   "metadata": {},
   "source": [
    "Como podemos ver en la tabla de arriba, la columna 'FECHA_y' contiene los valores de la fecha de fallecimiento de la victima, por lo que se decide eliminar dicha columna. En el caso de la columna 'VICTIMA_x' podemos ver que hay datos que son atipicos ya que dice OBJETO FIJO. Si leemos el PDF 'NOTAS_HOMICIDIOS_SINIESTRO_VIAL' se refiere a 'objeto fijo' cuando el ACUSADO es un objeto inmovil o cuando se produce una perdida de equilibrio de un vehiculo de dos ruedas, por lo tanto este dato lo consideramos atipico ya que si revisamos la columna 'VICTIMA_y' y la columna 'ACUSADO', podemos ver que el vehiculo en cuestion es un auto. Con esto deducimos que el dato de la columna 'VICTIMA_x' corresponde a la columna 'ACUSADO' y se procede a reemplazarlo."
   ]
  },
  {
   "cell_type": "code",
   "execution_count": 15,
   "metadata": {},
   "outputs": [],
   "source": [
    "# Encuentra las filas donde 'VICTIMA_x' es igual a 'OBJETO FIJO'\n",
    "filas_objeto_fijo = homicidios_combinado['VICTIMA_x'] == 'OBJETO FIJO'\n",
    "\n",
    "# Almacena temporalmente los valores de 'VICTIMA_x' en una columna temporal\n",
    "homicidios_combinado.loc[filas_objeto_fijo, 'TEMP'] = homicidios_combinado.loc[filas_objeto_fijo, 'VICTIMA_x']\n",
    "\n",
    "# Intercambia los valores entre 'VICTIMA_x' y 'ACUSADO'\n",
    "homicidios_combinado.loc[filas_objeto_fijo, 'VICTIMA_x'] = homicidios_combinado.loc[filas_objeto_fijo, 'ACUSADO']\n",
    "homicidios_combinado.loc[filas_objeto_fijo, 'ACUSADO'] = homicidios_combinado.loc[filas_objeto_fijo, 'TEMP']\n",
    "\n",
    "# Elimina la columna temporal 'TEMP'\n",
    "homicidios_combinado.drop(columns=['TEMP'], inplace=True)"
   ]
  },
  {
   "cell_type": "code",
   "execution_count": 16,
   "metadata": {},
   "outputs": [
    {
     "data": {
      "text/html": [
       "<div>\n",
       "<style scoped>\n",
       "    .dataframe tbody tr th:only-of-type {\n",
       "        vertical-align: middle;\n",
       "    }\n",
       "\n",
       "    .dataframe tbody tr th {\n",
       "        vertical-align: top;\n",
       "    }\n",
       "\n",
       "    .dataframe thead th {\n",
       "        text-align: right;\n",
       "    }\n",
       "</style>\n",
       "<table border=\"1\" class=\"dataframe\">\n",
       "  <thead>\n",
       "    <tr style=\"text-align: right;\">\n",
       "      <th></th>\n",
       "      <th>FECHA_x</th>\n",
       "      <th>VICTIMA_x</th>\n",
       "      <th>VICTIMA_y</th>\n",
       "      <th>FECHA_FALLECIMIENTO</th>\n",
       "      <th>ACUSADO</th>\n",
       "    </tr>\n",
       "  </thead>\n",
       "  <tbody>\n",
       "    <tr>\n",
       "      <th>65</th>\n",
       "      <td>2016-07-02</td>\n",
       "      <td>MOTO</td>\n",
       "      <td>MOTO</td>\n",
       "      <td>2016-07-03 00:00:00</td>\n",
       "      <td>OBJETO FIJO</td>\n",
       "    </tr>\n",
       "    <tr>\n",
       "      <th>204</th>\n",
       "      <td>2017-05-24</td>\n",
       "      <td>MOTO</td>\n",
       "      <td>MOTO</td>\n",
       "      <td>2017-05-29 00:00:00</td>\n",
       "      <td>SD</td>\n",
       "    </tr>\n",
       "    <tr>\n",
       "      <th>237</th>\n",
       "      <td>2017-09-02</td>\n",
       "      <td>AUTO</td>\n",
       "      <td>AUTO</td>\n",
       "      <td>2017-09-02 00:00:00</td>\n",
       "      <td>OBJETO FIJO</td>\n",
       "    </tr>\n",
       "    <tr>\n",
       "      <th>238</th>\n",
       "      <td>2017-09-02</td>\n",
       "      <td>AUTO</td>\n",
       "      <td>AUTO</td>\n",
       "      <td>2017-09-02 00:00:00</td>\n",
       "      <td>OBJETO FIJO</td>\n",
       "    </tr>\n",
       "    <tr>\n",
       "      <th>602</th>\n",
       "      <td>2020-12-05</td>\n",
       "      <td>PEATON_MOTO</td>\n",
       "      <td>PEATON</td>\n",
       "      <td>2020-12-05 00:00:00</td>\n",
       "      <td>MOTO</td>\n",
       "    </tr>\n",
       "    <tr>\n",
       "      <th>603</th>\n",
       "      <td>2020-12-05</td>\n",
       "      <td>PEATON_MOTO</td>\n",
       "      <td>MOTO</td>\n",
       "      <td>2020-12-05 00:00:00</td>\n",
       "      <td>MOTO</td>\n",
       "    </tr>\n",
       "  </tbody>\n",
       "</table>\n",
       "</div>"
      ],
      "text/plain": [
       "        FECHA_x    VICTIMA_x VICTIMA_y  FECHA_FALLECIMIENTO      ACUSADO\n",
       "65   2016-07-02         MOTO      MOTO  2016-07-03 00:00:00  OBJETO FIJO\n",
       "204  2017-05-24         MOTO      MOTO  2017-05-29 00:00:00           SD\n",
       "237  2017-09-02         AUTO      AUTO  2017-09-02 00:00:00  OBJETO FIJO\n",
       "238  2017-09-02         AUTO      AUTO  2017-09-02 00:00:00  OBJETO FIJO\n",
       "602  2020-12-05  PEATON_MOTO    PEATON  2020-12-05 00:00:00         MOTO\n",
       "603  2020-12-05  PEATON_MOTO      MOTO  2020-12-05 00:00:00         MOTO"
      ]
     },
     "execution_count": 16,
     "metadata": {},
     "output_type": "execute_result"
    }
   ],
   "source": [
    "homicidios_combinado[['FECHA_x', 'VICTIMA_x',  'VICTIMA_y','FECHA_FALLECIMIENTO','ACUSADO']].iloc[indices]"
   ]
  },
  {
   "cell_type": "code",
   "execution_count": 17,
   "metadata": {},
   "outputs": [],
   "source": [
    "homicidios_combinado.drop(columns='FECHA_y', inplace=True) #Se procede a eliminar la columna 'FECHA_y'"
   ]
  },
  {
   "cell_type": "markdown",
   "metadata": {},
   "source": [
    "Todavia hay datos diferentes dentro de las columnas 'VICTIMA_x' y 'VICTIMA_y'. Como podemo observar en el indice 602 y 603 hace referencia a 'PEATON-MOTO' lo cual se deduce que hubo dos victimas, pero en la columna 'VICTIMA_y' solo hay una victima y si lo comparamos con la columna 'ACUSADO' podemos deducir que la victima fue un peaton y el acusado una moto. Por esta razon se decide eliminar la columna 'VICTIMA_x'."
   ]
  },
  {
   "cell_type": "code",
   "execution_count": 18,
   "metadata": {},
   "outputs": [],
   "source": [
    "homicidios_combinado = homicidios_combinado.drop(columns='VICTIMA_x', axis=1)"
   ]
  },
  {
   "cell_type": "code",
   "execution_count": 19,
   "metadata": {},
   "outputs": [
    {
     "name": "stdout",
     "output_type": "stream",
     "text": [
      "<class 'pandas.core.frame.DataFrame'>\n",
      "RangeIndex: 717 entries, 0 to 716\n",
      "Data columns (total 21 columns):\n",
      " #   Column                 Non-Null Count  Dtype \n",
      "---  ------                 --------------  ----- \n",
      " 0   ID                     717 non-null    object\n",
      " 1   N_VICTIMAS             717 non-null    int64 \n",
      " 2   FECHA_x                717 non-null    object\n",
      " 3   AAAA                   717 non-null    int64 \n",
      " 4   MM                     717 non-null    int64 \n",
      " 5   FRANJA_HORARIA         717 non-null    object\n",
      " 6   LUGAR_DEL_HECHO        717 non-null    object\n",
      " 7   TIPO_DE_CALLE          717 non-null    object\n",
      " 8   CALLE                  716 non-null    object\n",
      " 9   DIRECCIÓN NORMALIZADA  708 non-null    object\n",
      " 10  COMUNA                 717 non-null    int64 \n",
      " 11  XY (CABA)              717 non-null    object\n",
      " 12  POS X                  717 non-null    object\n",
      " 13  POS Y                  717 non-null    object\n",
      " 14  PARTICIPANTES          717 non-null    object\n",
      " 15  ACUSADO                717 non-null    object\n",
      " 16  ROL                    717 non-null    object\n",
      " 17  VICTIMA_y              717 non-null    object\n",
      " 18  SEXO                   717 non-null    object\n",
      " 19  EDAD                   717 non-null    object\n",
      " 20  FECHA_FALLECIMIENTO    717 non-null    object\n",
      "dtypes: int64(4), object(17)\n",
      "memory usage: 117.8+ KB\n"
     ]
    }
   ],
   "source": [
    "homicidios_combinado.info()"
   ]
  },
  {
   "cell_type": "markdown",
   "metadata": {},
   "source": [
    "Procedemos a cambiar el nombre de las columnas que se vieron afectadas con el merge."
   ]
  },
  {
   "cell_type": "code",
   "execution_count": 20,
   "metadata": {},
   "outputs": [
    {
     "data": {
      "text/plain": [
       "Index(['ID', 'N_VICTIMAS', 'FECHA_x', 'AAAA', 'MM', 'FRANJA_HORARIA',\n",
       "       'LUGAR_DEL_HECHO', 'TIPO_DE_CALLE', 'CALLE', 'DIRECCIÓN NORMALIZADA',\n",
       "       'COMUNA', 'XY (CABA)', 'POS X', 'POS Y', 'PARTICIPANTES', 'ACUSADO',\n",
       "       'ROL', 'VICTIMA_y', 'SEXO', 'EDAD', 'FECHA_FALLECIMIENTO'],\n",
       "      dtype='object')"
      ]
     },
     "execution_count": 20,
     "metadata": {},
     "output_type": "execute_result"
    }
   ],
   "source": [
    "homicidios_combinado.columns"
   ]
  },
  {
   "cell_type": "code",
   "execution_count": 21,
   "metadata": {},
   "outputs": [],
   "source": [
    "homicidios_combinado = homicidios_combinado.rename(columns={'FECHA_x': 'FECHA', 'VICTIMA_y': 'VICTIMA'})"
   ]
  },
  {
   "cell_type": "code",
   "execution_count": 22,
   "metadata": {},
   "outputs": [
    {
     "data": {
      "text/html": [
       "<div>\n",
       "<style scoped>\n",
       "    .dataframe tbody tr th:only-of-type {\n",
       "        vertical-align: middle;\n",
       "    }\n",
       "\n",
       "    .dataframe tbody tr th {\n",
       "        vertical-align: top;\n",
       "    }\n",
       "\n",
       "    .dataframe thead th {\n",
       "        text-align: right;\n",
       "    }\n",
       "</style>\n",
       "<table border=\"1\" class=\"dataframe\">\n",
       "  <thead>\n",
       "    <tr style=\"text-align: right;\">\n",
       "      <th></th>\n",
       "      <th>ID</th>\n",
       "      <th>N_VICTIMAS</th>\n",
       "      <th>FECHA</th>\n",
       "      <th>AAAA</th>\n",
       "      <th>MM</th>\n",
       "      <th>FRANJA_HORARIA</th>\n",
       "      <th>LUGAR_DEL_HECHO</th>\n",
       "      <th>TIPO_DE_CALLE</th>\n",
       "      <th>CALLE</th>\n",
       "      <th>DIRECCIÓN NORMALIZADA</th>\n",
       "      <th>...</th>\n",
       "      <th>XY (CABA)</th>\n",
       "      <th>POS X</th>\n",
       "      <th>POS Y</th>\n",
       "      <th>PARTICIPANTES</th>\n",
       "      <th>ACUSADO</th>\n",
       "      <th>ROL</th>\n",
       "      <th>VICTIMA</th>\n",
       "      <th>SEXO</th>\n",
       "      <th>EDAD</th>\n",
       "      <th>FECHA_FALLECIMIENTO</th>\n",
       "    </tr>\n",
       "  </thead>\n",
       "  <tbody>\n",
       "    <tr>\n",
       "      <th>0</th>\n",
       "      <td>2016-0001</td>\n",
       "      <td>1</td>\n",
       "      <td>2016-01-01</td>\n",
       "      <td>2016</td>\n",
       "      <td>1</td>\n",
       "      <td>4</td>\n",
       "      <td>AV PIEDRA BUENA Y AV FERNANDEZ DE LA CRUZ</td>\n",
       "      <td>AVENIDA</td>\n",
       "      <td>PIEDRA BUENA AV.</td>\n",
       "      <td>PIEDRA BUENA AV. y FERNANDEZ DE LA CRUZ, F., G...</td>\n",
       "      <td>...</td>\n",
       "      <td>Point (98896.78238426 93532.43437792)</td>\n",
       "      <td>-58.47533969</td>\n",
       "      <td>-34.68757022</td>\n",
       "      <td>MOTO-AUTO</td>\n",
       "      <td>AUTO</td>\n",
       "      <td>CONDUCTOR</td>\n",
       "      <td>MOTO</td>\n",
       "      <td>MASCULINO</td>\n",
       "      <td>19</td>\n",
       "      <td>2016-01-01 00:00:00</td>\n",
       "    </tr>\n",
       "    <tr>\n",
       "      <th>1</th>\n",
       "      <td>2016-0002</td>\n",
       "      <td>1</td>\n",
       "      <td>2016-01-02</td>\n",
       "      <td>2016</td>\n",
       "      <td>1</td>\n",
       "      <td>1</td>\n",
       "      <td>AV GRAL PAZ  Y AV DE LOS CORRALES</td>\n",
       "      <td>GRAL PAZ</td>\n",
       "      <td>PAZ, GRAL. AV.</td>\n",
       "      <td>PAZ, GRAL. AV. y DE LOS CORRALES AV.</td>\n",
       "      <td>...</td>\n",
       "      <td>Point (95832.05571093 95505.41641999)</td>\n",
       "      <td>-58.50877521</td>\n",
       "      <td>-34.66977709</td>\n",
       "      <td>AUTO-PASAJEROS</td>\n",
       "      <td>PASAJEROS</td>\n",
       "      <td>CONDUCTOR</td>\n",
       "      <td>AUTO</td>\n",
       "      <td>MASCULINO</td>\n",
       "      <td>70</td>\n",
       "      <td>2016-01-02 00:00:00</td>\n",
       "    </tr>\n",
       "  </tbody>\n",
       "</table>\n",
       "<p>2 rows × 21 columns</p>\n",
       "</div>"
      ],
      "text/plain": [
       "          ID  N_VICTIMAS       FECHA  AAAA  MM FRANJA_HORARIA  \\\n",
       "0  2016-0001           1  2016-01-01  2016   1              4   \n",
       "1  2016-0002           1  2016-01-02  2016   1              1   \n",
       "\n",
       "                             LUGAR_DEL_HECHO TIPO_DE_CALLE             CALLE  \\\n",
       "0  AV PIEDRA BUENA Y AV FERNANDEZ DE LA CRUZ       AVENIDA  PIEDRA BUENA AV.   \n",
       "1          AV GRAL PAZ  Y AV DE LOS CORRALES      GRAL PAZ    PAZ, GRAL. AV.   \n",
       "\n",
       "                               DIRECCIÓN NORMALIZADA  ...  \\\n",
       "0  PIEDRA BUENA AV. y FERNANDEZ DE LA CRUZ, F., G...  ...   \n",
       "1               PAZ, GRAL. AV. y DE LOS CORRALES AV.  ...   \n",
       "\n",
       "                               XY (CABA)         POS X         POS Y  \\\n",
       "0  Point (98896.78238426 93532.43437792)  -58.47533969  -34.68757022   \n",
       "1  Point (95832.05571093 95505.41641999)  -58.50877521  -34.66977709   \n",
       "\n",
       "    PARTICIPANTES    ACUSADO        ROL VICTIMA       SEXO EDAD  \\\n",
       "0       MOTO-AUTO       AUTO  CONDUCTOR    MOTO  MASCULINO   19   \n",
       "1  AUTO-PASAJEROS  PASAJEROS  CONDUCTOR    AUTO  MASCULINO   70   \n",
       "\n",
       "   FECHA_FALLECIMIENTO  \n",
       "0  2016-01-01 00:00:00  \n",
       "1  2016-01-02 00:00:00  \n",
       "\n",
       "[2 rows x 21 columns]"
      ]
     },
     "execution_count": 22,
     "metadata": {},
     "output_type": "execute_result"
    }
   ],
   "source": [
    "homicidios_combinado.head(2)"
   ]
  },
  {
   "cell_type": "markdown",
   "metadata": {},
   "source": [
    "### Enriquecimiento de columnas para los KPI's"
   ]
  },
  {
   "cell_type": "markdown",
   "metadata": {},
   "source": [
    "**Objetivo:**\n",
    "* Crear una nueva columna 'SEMESTRE' a partir de la columna 'MM' y luego combinar la columna 'SEMESTRE' con la columna 'AAAA' con el fin de tener una columna del semetre por año."
   ]
  },
  {
   "cell_type": "code",
   "execution_count": 23,
   "metadata": {},
   "outputs": [
    {
     "data": {
      "text/html": [
       "<div>\n",
       "<style scoped>\n",
       "    .dataframe tbody tr th:only-of-type {\n",
       "        vertical-align: middle;\n",
       "    }\n",
       "\n",
       "    .dataframe tbody tr th {\n",
       "        vertical-align: top;\n",
       "    }\n",
       "\n",
       "    .dataframe thead th {\n",
       "        text-align: right;\n",
       "    }\n",
       "</style>\n",
       "<table border=\"1\" class=\"dataframe\">\n",
       "  <thead>\n",
       "    <tr style=\"text-align: right;\">\n",
       "      <th></th>\n",
       "      <th>ID</th>\n",
       "      <th>N_VICTIMAS</th>\n",
       "      <th>FECHA</th>\n",
       "      <th>AAAA</th>\n",
       "      <th>FRANJA_HORARIA</th>\n",
       "      <th>LUGAR_DEL_HECHO</th>\n",
       "      <th>TIPO_DE_CALLE</th>\n",
       "      <th>CALLE</th>\n",
       "      <th>DIRECCIÓN NORMALIZADA</th>\n",
       "      <th>COMUNA</th>\n",
       "      <th>...</th>\n",
       "      <th>POS X</th>\n",
       "      <th>POS Y</th>\n",
       "      <th>PARTICIPANTES</th>\n",
       "      <th>ACUSADO</th>\n",
       "      <th>ROL</th>\n",
       "      <th>VICTIMA</th>\n",
       "      <th>SEXO</th>\n",
       "      <th>EDAD</th>\n",
       "      <th>FECHA_FALLECIMIENTO</th>\n",
       "      <th>SEMESTRE</th>\n",
       "    </tr>\n",
       "  </thead>\n",
       "  <tbody>\n",
       "    <tr>\n",
       "      <th>0</th>\n",
       "      <td>2016-0001</td>\n",
       "      <td>1</td>\n",
       "      <td>2016-01-01</td>\n",
       "      <td>2016</td>\n",
       "      <td>4</td>\n",
       "      <td>AV PIEDRA BUENA Y AV FERNANDEZ DE LA CRUZ</td>\n",
       "      <td>AVENIDA</td>\n",
       "      <td>PIEDRA BUENA AV.</td>\n",
       "      <td>PIEDRA BUENA AV. y FERNANDEZ DE LA CRUZ, F., G...</td>\n",
       "      <td>8</td>\n",
       "      <td>...</td>\n",
       "      <td>-58.47533969</td>\n",
       "      <td>-34.68757022</td>\n",
       "      <td>MOTO-AUTO</td>\n",
       "      <td>AUTO</td>\n",
       "      <td>CONDUCTOR</td>\n",
       "      <td>MOTO</td>\n",
       "      <td>MASCULINO</td>\n",
       "      <td>19</td>\n",
       "      <td>2016-01-01 00:00:00</td>\n",
       "      <td>2016_1</td>\n",
       "    </tr>\n",
       "    <tr>\n",
       "      <th>1</th>\n",
       "      <td>2016-0002</td>\n",
       "      <td>1</td>\n",
       "      <td>2016-01-02</td>\n",
       "      <td>2016</td>\n",
       "      <td>1</td>\n",
       "      <td>AV GRAL PAZ  Y AV DE LOS CORRALES</td>\n",
       "      <td>GRAL PAZ</td>\n",
       "      <td>PAZ, GRAL. AV.</td>\n",
       "      <td>PAZ, GRAL. AV. y DE LOS CORRALES AV.</td>\n",
       "      <td>9</td>\n",
       "      <td>...</td>\n",
       "      <td>-58.50877521</td>\n",
       "      <td>-34.66977709</td>\n",
       "      <td>AUTO-PASAJEROS</td>\n",
       "      <td>PASAJEROS</td>\n",
       "      <td>CONDUCTOR</td>\n",
       "      <td>AUTO</td>\n",
       "      <td>MASCULINO</td>\n",
       "      <td>70</td>\n",
       "      <td>2016-01-02 00:00:00</td>\n",
       "      <td>2016_1</td>\n",
       "    </tr>\n",
       "    <tr>\n",
       "      <th>2</th>\n",
       "      <td>2016-0003</td>\n",
       "      <td>1</td>\n",
       "      <td>2016-01-03</td>\n",
       "      <td>2016</td>\n",
       "      <td>7</td>\n",
       "      <td>AV ENTRE RIOS 2034</td>\n",
       "      <td>AVENIDA</td>\n",
       "      <td>ENTRE RIOS AV.</td>\n",
       "      <td>ENTRE RIOS AV. 2034</td>\n",
       "      <td>1</td>\n",
       "      <td>...</td>\n",
       "      <td>-58.39040293</td>\n",
       "      <td>-34.63189362</td>\n",
       "      <td>MOTO-AUTO</td>\n",
       "      <td>AUTO</td>\n",
       "      <td>CONDUCTOR</td>\n",
       "      <td>MOTO</td>\n",
       "      <td>MASCULINO</td>\n",
       "      <td>30</td>\n",
       "      <td>2016-01-03 00:00:00</td>\n",
       "      <td>2016_1</td>\n",
       "    </tr>\n",
       "  </tbody>\n",
       "</table>\n",
       "<p>3 rows × 21 columns</p>\n",
       "</div>"
      ],
      "text/plain": [
       "          ID  N_VICTIMAS       FECHA  AAAA FRANJA_HORARIA  \\\n",
       "0  2016-0001           1  2016-01-01  2016              4   \n",
       "1  2016-0002           1  2016-01-02  2016              1   \n",
       "2  2016-0003           1  2016-01-03  2016              7   \n",
       "\n",
       "                             LUGAR_DEL_HECHO TIPO_DE_CALLE             CALLE  \\\n",
       "0  AV PIEDRA BUENA Y AV FERNANDEZ DE LA CRUZ       AVENIDA  PIEDRA BUENA AV.   \n",
       "1          AV GRAL PAZ  Y AV DE LOS CORRALES      GRAL PAZ    PAZ, GRAL. AV.   \n",
       "2                         AV ENTRE RIOS 2034       AVENIDA    ENTRE RIOS AV.   \n",
       "\n",
       "                               DIRECCIÓN NORMALIZADA  COMUNA  ...  \\\n",
       "0  PIEDRA BUENA AV. y FERNANDEZ DE LA CRUZ, F., G...       8  ...   \n",
       "1               PAZ, GRAL. AV. y DE LOS CORRALES AV.       9  ...   \n",
       "2                                ENTRE RIOS AV. 2034       1  ...   \n",
       "\n",
       "          POS X         POS Y   PARTICIPANTES    ACUSADO        ROL VICTIMA  \\\n",
       "0  -58.47533969  -34.68757022       MOTO-AUTO       AUTO  CONDUCTOR    MOTO   \n",
       "1  -58.50877521  -34.66977709  AUTO-PASAJEROS  PASAJEROS  CONDUCTOR    AUTO   \n",
       "2  -58.39040293  -34.63189362       MOTO-AUTO       AUTO  CONDUCTOR    MOTO   \n",
       "\n",
       "        SEXO EDAD  FECHA_FALLECIMIENTO SEMESTRE  \n",
       "0  MASCULINO   19  2016-01-01 00:00:00   2016_1  \n",
       "1  MASCULINO   70  2016-01-02 00:00:00   2016_1  \n",
       "2  MASCULINO   30  2016-01-03 00:00:00   2016_1  \n",
       "\n",
       "[3 rows x 21 columns]"
      ]
     },
     "execution_count": 23,
     "metadata": {},
     "output_type": "execute_result"
    }
   ],
   "source": [
    "# Función para clasificar como primer o segundo semestre\n",
    "def clasificar_semestre(mes):\n",
    "    if mes <= 6:\n",
    "        return \"1\"\n",
    "    else:\n",
    "        return \"2\"\n",
    "\n",
    "# Aplicar la función a la columna \"MM\" y crear una nueva columna \"Semestre\"\n",
    "homicidios_combinado['SEMESTRE'] = homicidios_combinado['MM'].apply(clasificar_semestre)\n",
    "\n",
    "# Concatenar con la columna AAAA\n",
    "homicidios_combinado['AAAA_SEMESTRE'] = homicidios_combinado['AAAA'].astype(str) + \"_\" + homicidios_combinado['SEMESTRE']\n",
    "\n",
    "# eliminar columnas irrelevantes\n",
    "homicidios_combinado = homicidios_combinado.drop(columns=[\"MM\", \"SEMESTRE\"])\n",
    "\n",
    "# renombrar columna \"AAAA_SEMESTRE\"\n",
    "homicidios_combinado = homicidios_combinado.rename(columns={'AAAA_SEMESTRE': 'SEMESTRE'})\n",
    "\n",
    "homicidios_combinado.head(3)"
   ]
  },
  {
   "cell_type": "markdown",
   "metadata": {},
   "source": [
    "### Procedemos a guardar `homicidios_combinado` a formato CSV"
   ]
  },
  {
   "cell_type": "code",
   "execution_count": 24,
   "metadata": {},
   "outputs": [],
   "source": [
    "homicidios_combinado.to_csv('datasets_limpios/homicidios_combinado.csv', index=False, encoding='utf-8')"
   ]
  }
 ],
 "metadata": {
  "kernelspec": {
   "display_name": "Python 3",
   "language": "python",
   "name": "python3"
  },
  "language_info": {
   "codemirror_mode": {
    "name": "ipython",
    "version": 3
   },
   "file_extension": ".py",
   "mimetype": "text/x-python",
   "name": "python",
   "nbconvert_exporter": "python",
   "pygments_lexer": "ipython3",
   "version": "3.11.6"
  }
 },
 "nbformat": 4,
 "nbformat_minor": 2
}
